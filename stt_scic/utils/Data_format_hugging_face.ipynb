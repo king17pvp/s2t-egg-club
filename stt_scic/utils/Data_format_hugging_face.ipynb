{
 "cells": [
  {
   "cell_type": "code",
   "execution_count": null,
   "id": "09439832",
   "metadata": {},
   "outputs": [],
   "source": [
    "# Trước khi sử dụng file này, cần git clone data về để xử lí file parquet"
   ]
  },
  {
   "cell_type": "code",
   "execution_count": 1,
   "id": "783408ca",
   "metadata": {},
   "outputs": [
    {
     "name": "stderr",
     "output_type": "stream",
     "text": [
      "c:\\Users\\admin\\AppData\\Local\\Programs\\Python\\Python312\\Lib\\site-packages\\tqdm\\auto.py:21: TqdmWarning: IProgress not found. Please update jupyter and ipywidgets. See https://ipywidgets.readthedocs.io/en/stable/user_install.html\n",
      "  from .autonotebook import tqdm as notebook_tqdm\n"
     ]
    }
   ],
   "source": [
    "from datasets import load_dataset, Dataset\n",
    "from torch.utils.data import DataLoader\n",
    "import pandas as pd\n",
    "import os\n",
    "import soundfile as sf"
   ]
  },
  {
   "cell_type": "code",
   "execution_count": 2,
   "id": "f73b46c5",
   "metadata": {},
   "outputs": [],
   "source": [
    "output_folder = \"labels\"\n",
    "os.makedirs(output_folder, exist_ok=True)"
   ]
  },
  {
   "cell_type": "code",
   "execution_count": 3,
   "id": "915b9ebc",
   "metadata": {},
   "outputs": [],
   "source": [
    "speech_folder = \"audio\"\n",
    "os.makedirs(speech_folder, exist_ok = True)"
   ]
  },
  {
   "cell_type": "code",
   "execution_count": null,
   "id": "07b65bc9",
   "metadata": {},
   "outputs": [],
   "source": [
    "# chuyển từ parquest => 2 folder - DataVin\n",
    "for i in range (0,10) : # số lượng parquet (10 parquet đầu )\n",
    "    dataset = pd.read_parquet(f\"vlsp2020_vinai_100h/data/train-0000{i}-of-00035.parquet\") # Đường dẫn tập data đầu tiên\n",
    "\n",
    "    for index, text in enumerate( dataset[\"transcription\"]) :\n",
    "        with open(os.path.join(output_folder, f\"train-0000{i}-of-00035_{index}.txt\"), \"w\", encoding=\"utf-8\") as f:\n",
    "            f.write(str(text))\n",
    "    for index, audio in enumerate(dataset[\"audio\"]):\n",
    "        audio_bytes = audio[\"bytes\"]  # trích dữ liệu WAV đã mã hóa\n",
    "        file_path = os.path.join(speech_folder, f\"train-0000{i}-of-00035_{index}.wav\")\n",
    "        \n",
    "        with open(file_path, \"wb\") as f:  \n",
    "            f.write(audio_bytes)"
   ]
  },
  {
   "cell_type": "code",
   "execution_count": null,
   "id": "4c5203f7",
   "metadata": {},
   "outputs": [],
   "source": [
    "for i in range (10,18) : # số lượng parquet\n",
    "    dataset = pd.read_parquet(f\"LSVSC/data/train-000{i}-of-00018.parquet\")\n",
    "\n",
    "    for index, text in enumerate( dataset[\"transcription\"]) :\n",
    "        with open(os.path.join(output_folder, f\"train-000{i}-of-00018_{index}.txt\"), \"w\", encoding=\"utf-8\") as f:\n",
    "            f.write(str(text))\n",
    "    for index, audio in enumerate(dataset[\"audio\"]):\n",
    "        audio_bytes = audio[\"bytes\"]  # trích dữ liệu WAV đã mã hóa\n",
    "        file_path = os.path.join(speech_folder, f\"train-000{i}-of-00018_{index}.wav\")\n",
    "        with open(file_path, \"wb\") as f:  \n",
    "            f.write(audio_bytes)"
   ]
  },
  {
   "cell_type": "code",
   "execution_count": null,
   "id": "7a259cfd",
   "metadata": {},
   "outputs": [],
   "source": [
    "dataset_full = []\n",
    "for file_path in os.listdir(output_folder):\n",
    "    path = os.path.join(output_folder, file_path)\n",
    "    with open(path, \"r\", encoding=\"utf-8\") as f:\n",
    "        data = f.read().strip()\n",
    "    file_path = file_path.replace(\".txt\", \".wav\")\n",
    "# trích xuất thông tin từ file wav\n",
    "    audio_path = os.path.join(speech_folder, file_path)\n",
    "    audio_array, sr = sf.read(audio_path,dtype='float32')\n",
    "    mono = 1 if len(audio_array.shape) == 1 else 0\n",
    "    dataset_full.append({\n",
    "        \"audio\": audio_path,        \n",
    "        \"samplerate\": sr,\n",
    "        \"mono\": mono,\n",
    "        \"transcript\": data\n",
    "    })\n",
    "dataset_full =  Dataset.from_list(dataset_full)\n",
    "#tạo định dạng cho data"
   ]
  },
  {
   "cell_type": "code",
   "execution_count": 7,
   "id": "d835e0d7",
   "metadata": {},
   "outputs": [],
   "source": [
    "Data_full = \"Data_full\"\n",
    "os.makedirs(Data_full,exist_ok = True)"
   ]
  },
  {
   "cell_type": "code",
   "execution_count": 8,
   "id": "fdcb72d9",
   "metadata": {},
   "outputs": [
    {
     "data": {
      "text/plain": [
       "Dataset({\n",
       "    features: ['audio', 'samplerate', 'mono', 'transcript'],\n",
       "    num_rows: 36327\n",
       "})"
      ]
     },
     "execution_count": 8,
     "metadata": {},
     "output_type": "execute_result"
    }
   ],
   "source": [
    "dataset_full"
   ]
  },
  {
   "cell_type": "code",
   "execution_count": null,
   "id": "6dfb7644",
   "metadata": {},
   "outputs": [],
   "source": [
    "df = pd.DataFrame(dataset_full)\n",
    "df.to_csv(\"Full_dataset.csv\", index=False)\n",
    "#lưu data vào file csv"
   ]
  }
 ],
 "metadata": {
  "kernelspec": {
   "display_name": "Python 3",
   "language": "python",
   "name": "python3"
  },
  "language_info": {
   "codemirror_mode": {
    "name": "ipython",
    "version": 3
   },
   "file_extension": ".py",
   "mimetype": "text/x-python",
   "name": "python",
   "nbconvert_exporter": "python",
   "pygments_lexer": "ipython3",
   "version": "3.12.4"
  }
 },
 "nbformat": 4,
 "nbformat_minor": 5
}
